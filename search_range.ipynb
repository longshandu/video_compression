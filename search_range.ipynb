{
 "cells": [
  {
   "cell_type": "markdown",
   "metadata": {},
   "source": [
    "## Lab\n",
    "\n",
    "Analyze the impact of the $R$ (search range) parameter in the [frame predictor](#linear_frame_interpolation). Compute the prediction error between the original frame ($s_j$) and the prediction frame ($\\hat{s}_j$). Study the impact of initializing the motion vectors ([telescopic search](#telescopic_search)). Measure the dependency with the distance between frames ($i$, $j$, and $k$ indexes).\n",
    "\n"
   ]
  },
  {
   "cell_type": "code",
   "execution_count": 29,
   "metadata": {},
   "outputs": [
    {
     "data": {
      "text/latex": [
       "$$\\text{Analyze Entropy by changing the parameter Search Range}$$"
      ],
      "text/plain": [
       "<IPython.core.display.Math object>"
      ]
     },
     "metadata": {},
     "output_type": "display_data"
    },
    {
     "data": {
      "text/latex": [
       "$$Search Range\\quad\\quad\\quad High_1\\quad\\quad\\quad\\quad High_2\\quad\\quad\\quad\\quad High_3$$"
      ],
      "text/plain": [
       "<IPython.core.display.Math object>"
      ]
     },
     "metadata": {},
     "output_type": "display_data"
    },
    {
     "name": "stdout",
     "output_type": "stream",
     "text": [
      "2.000000\t18.041096\t9.846029\t5.087060\n",
      "4.000000\t18.041096\t9.846029\t5.087060\n",
      "8.000000\t18.041096\t9.846029\t5.087060\n",
      "16.000000\t18.041096\t9.846029\t5.087060\n",
      "32.000000\t18.041096\t9.846029\t5.087060\n",
      "64.000000\t18.041096\t9.846029\t5.087060\n",
      "128.000000\t18.041096\t9.846029\t5.087060\n"
     ]
    },
    {
     "data": {
      "text/plain": [
       "Text(0,0.5,'Entropy')"
      ]
     },
     "execution_count": 29,
     "metadata": {},
     "output_type": "execute_result"
    },
    {
     "data": {
      "image/png": "[encoded data removed]",
      "text/plain": [
       "<matplotlib.figure.Figure at 0xac41630>"
      ]
     },
     "metadata": {},
     "output_type": "display_data"
    }
   ],
   "source": [
    "import numpy as np\n",
    "import matplotlib.pyplot as plt\n",
    "from IPython.display import display, Math, Latex\n",
    "\n",
    "entropyHight1=[(2, 18.041095837829808), (4, 18.041095837829808), (8, 18.041095837829808), (16, 18.041095837829808), (32, 18.041095837829808), (64, 18.041095837829808), (128, 18.041095837829808)]\n",
    "entropyHight2=[(2, 9.846029243766116), (4, 9.846029243766116), (8, 9.846029243766116), (16, 9.846029243766116), (32, 9.846029243766116), (64, 9.846029243766116), (128, 9.846029243766116)]\n",
    "entropyHight3=[(2, 5.087059993090022), (4, 5.087059993090022), (8, 5.087059993090022), (16, 5.087059993090022), (32, 5.087059993090022), (64, 5.087059993090022), (128, 5.087059993090022)]\n",
    "\n",
    "display(Math(r'\\text{Analyze Entropy by changing the parameter Search Range}'))\n",
    "display(Math(r'Search Range\\quad\\quad\\quad High_1\\quad\\quad\\quad\\quad High_2\\quad\\quad\\quad\\quad High_3'))\n",
    "\n",
    "for i in range(0,len(entropyHight1),1):\n",
    "    print(\"{:f}\\t{:6f}\\t{:6f}\\t{:6f}\".\\\n",
    "          format(entropyHight1[i][0], entropyHight1[i][1], entropyHight2[i][1], entropyHight3[i][1]))\n",
    "\n",
    "entropyHight1X, entropyHight1Y = zip(*entropyHight1)\n",
    "entropyHight2X, entropyHight2Y = zip(*entropyHight2)\n",
    "entropyHight3X, entropyHight3Y = zip(*entropyHight3)\n",
    "\n",
    "%matplotlib inline\n",
    "fig, s = plt.subplots()\n",
    "s.plot(entropyHight1X, entropyHight1Y,label=\"Resolution 1\",marker='x')\n",
    "s.plot(entropyHight2X, entropyHight2Y,label=\"Resolution 2\",marker='x')\n",
    "s.plot(entropyHight3X, entropyHight3Y,label=\"Resolution 3\",marker='x')\n",
    "s.legend()\n",
    "s.set_title(\"Search Range\")   \n",
    "s.set_xlabel(\"S\")   \n",
    "s.set_ylabel(\"Entropy\")  "
   ]
  }
 ],
 "metadata": {
  "kernelspec": {
   "display_name": "Python 3",
   "language": "python",
   "name": "python3"
  },
  "language_info": {
   "codemirror_mode": {
    "name": "ipython",
    "version": 3
   },
   "file_extension": ".py",
   "mimetype": "text/x-python",
   "name": "python",
   "nbconvert_exporter": "python",
   "pygments_lexer": "ipython3",
   "version": "3.6.4"
  }
 },
 "nbformat": 4,
 "nbformat_minor": 2
}
